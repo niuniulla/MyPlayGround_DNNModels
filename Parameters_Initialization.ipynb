{
 "cells": [
  {
   "cell_type": "markdown",
   "id": "6cfea9bb-111d-40a4-90a5-56db8984806e",
   "metadata": {},
   "source": [
    "# Model Parameter Initialization"
   ]
  },
  {
   "cell_type": "markdown",
   "id": "0e9e910a-5022-4eb7-b504-e8f3cf8b8124",
   "metadata": {},
   "source": [
    "Pytorch initializes the parameters by default, however, it is not always optimimal for certain cases. It also happens that even the default initialization leads to aberrant training loss."
   ]
  },
  {
   "cell_type": "code",
   "execution_count": 1,
   "id": "e34bcbd7-668c-4826-a4ba-3339acf3708b",
   "metadata": {},
   "outputs": [],
   "source": [
    "import torch\n",
    "import torch.nn as nn\n",
    "import torchvision.models as models"
   ]
  },
  {
   "cell_type": "markdown",
   "id": "b9fe6420-f7b1-4144-9b0e-462f6aa8f517",
   "metadata": {},
   "source": [
    "## On layer"
   ]
  },
  {
   "cell_type": "code",
   "execution_count": 2,
   "id": "871cce99-0951-4a29-bb4d-af3779877218",
   "metadata": {},
   "outputs": [
    {
     "data": {
      "text/plain": [
       "Parameter containing:\n",
       "tensor([[-0.3153,  0.2290, -0.7257,  0.1230,  0.3987],\n",
       "        [ 0.4264, -0.2578,  0.0789, -0.4058,  0.4034],\n",
       "        [ 0.2900, -0.7498, -0.3052,  0.5333, -0.4576],\n",
       "        [ 0.5835,  0.4658,  0.7589, -0.7386,  0.0936],\n",
       "        [-0.2505,  0.5927,  0.7321, -0.3414,  0.4924]], requires_grad=True)"
      ]
     },
     "execution_count": 2,
     "metadata": {},
     "output_type": "execute_result"
    }
   ],
   "source": [
    "\"\"\" for a single layer using init\n",
    "\"\"\"\n",
    "\n",
    "linear = nn.Linear(5, 5)\n",
    "nn.init.xavier_uniform_(linear.weight)"
   ]
  },
  {
   "cell_type": "markdown",
   "id": "a027dace-ef97-434f-9afc-a0a2a5279432",
   "metadata": {},
   "source": [
    "There are other methods of initialization provided by init module: https://pytorch.org/docs/master/nn.init.html. But not all initilization methods work for all type of layers/parameters."
   ]
  },
  {
   "cell_type": "code",
   "execution_count": 3,
   "id": "025d7a82-1abc-4900-b998-eadcedbd7801",
   "metadata": {},
   "outputs": [
    {
     "name": "stdout",
     "output_type": "stream",
     "text": [
      "dim of bias : 1  is less than 2\n"
     ]
    }
   ],
   "source": [
    "# show that xavier initilization not working for bias\n",
    "a = nn.Linear(5, 5)\n",
    "# nn.init.xavier_uniform_(a.bias) # <- FAIL: Fan in and fan out can not be computed for tensor with fewer than 2 dimensions\n",
    "print(\"dim of bias :\", len(a.bias.data.shape), \" is less than 2\")"
   ]
  },
  {
   "cell_type": "code",
   "execution_count": 4,
   "id": "3a56a549-7a5f-4646-af7c-52d69c023488",
   "metadata": {},
   "outputs": [
    {
     "data": {
      "text/plain": [
       "tensor([0.1000, 0.1000, 0.1000, 0.1000, 0.1000])"
      ]
     },
     "execution_count": 4,
     "metadata": {},
     "output_type": "execute_result"
    }
   ],
   "source": [
    "\"\"\" for fixed value initialization using fill\n",
    "\"\"\"\n",
    "\n",
    "linear.weight.data.fill_(0.1) # for weight\n",
    "linear.bias.data.fill_(0.1)"
   ]
  },
  {
   "cell_type": "code",
   "execution_count": 5,
   "id": "73bcc220-7ed6-410c-8181-be843ea5753d",
   "metadata": {},
   "outputs": [
    {
     "name": "stdout",
     "output_type": "stream",
     "text": [
      "wieghts:  tensor([[1., 1., 1., 1., 1.],\n",
      "        [1., 1., 1., 1., 1.],\n",
      "        [1., 1., 1., 1., 1.],\n",
      "        [1., 1., 1., 1., 1.],\n",
      "        [1., 1., 1., 1., 1.]])\n",
      "bias:  tensor([1., 1., 1., 1., 1.])\n"
     ]
    }
   ],
   "source": [
    "\"\"\" assign manually values\n",
    "\"\"\"\n",
    "\n",
    "linear = nn.Linear(5, 5)\n",
    "linear.weight.data = torch.ones((5,5))\n",
    "print(\"wieghts: \", linear.weight.data)\n",
    "linear.bias.data = torch.ones((5))\n",
    "print(\"bias: \", linear.bias.data)"
   ]
  },
  {
   "cell_type": "markdown",
   "id": "eb7b4e89-de01-47e3-87b1-d74963cf95ca",
   "metadata": {},
   "source": [
    "## On layer wrappers"
   ]
  },
  {
   "cell_type": "code",
   "execution_count": 6,
   "id": "4fcb6416-1410-4ac6-b723-7031d42fceb5",
   "metadata": {},
   "outputs": [
    {
     "data": {
      "text/plain": [
       "ModuleList(\n",
       "  (0-1): 2 x Linear(in_features=5, out_features=5, bias=True)\n",
       ")"
      ]
     },
     "execution_count": 6,
     "metadata": {},
     "output_type": "execute_result"
    }
   ],
   "source": [
    "\"\"\" for certain layers in a sequence\n",
    "\"\"\"\n",
    "\n",
    "def init_layer(l) :\n",
    "    if isinstance(l, nn.Linear):\n",
    "        nn.init.xavier_uniform_(l.weight)\n",
    "        l.bias.data.fill_(0.1)\n",
    "\n",
    "seq = nn.Sequential(\n",
    "    nn.Linear(5, 5),\n",
    "    nn.Linear(5, 5)\n",
    ")\n",
    "seq.apply(init_layer)\n",
    "\n",
    "ml = nn.ModuleList([nn.Linear(5, 5), nn.Linear(5, 5)])\n",
    "ml.apply(init_layer)"
   ]
  },
  {
   "cell_type": "markdown",
   "id": "5530f880-cdd3-4190-a070-6846358c15bb",
   "metadata": {},
   "source": [
    "## For all parameters in model"
   ]
  },
  {
   "cell_type": "markdown",
   "id": "66214c9b-04d6-4023-aa7b-18134c9f2c23",
   "metadata": {},
   "source": [
    "'apply' doesn't work strutures other than sequential ones. So for a general model, we need other ways to do the initialization."
   ]
  },
  {
   "cell_type": "markdown",
   "id": "ebcbd735-bf14-49f1-acc2-56bf8b61668b",
   "metadata": {},
   "source": [
    "### On parameters"
   ]
  },
  {
   "cell_type": "markdown",
   "id": "adab56e7-626a-460c-8769-419fa00ff983",
   "metadata": {},
   "source": [
    "This method is to initilize the parameters. So it doesn't work for method which requires higher dimensions."
   ]
  },
  {
   "cell_type": "code",
   "execution_count": 7,
   "id": "629e6df1-e3a7-4084-bf95-20981c0df520",
   "metadata": {},
   "outputs": [],
   "source": [
    "\"\"\" initialize by parameters\n",
    "\"\"\"\n",
    "\n",
    "def init_params(m, func, *params, **kwargs) :\n",
    "    for p in m.parameters() :\n",
    "        func(p, *params, **kwargs)\n",
    "\n",
    "model = models.resnet18()\n",
    "init_params(model, nn.init.normal_, mean=0, std=1) # normal distribution - OK\n",
    "init_params(model, nn.init.constant_, 1.) # constant value - OK\n",
    "# init_params(model, nn.init.xavier_normal_, 1.) # xavier - FAIL"
   ]
  },
  {
   "cell_type": "markdown",
   "id": "a6517c84-c40c-40b8-aea7-8d9a09dae28b",
   "metadata": {},
   "source": [
    "### On selected layers"
   ]
  },
  {
   "cell_type": "markdown",
   "id": "d0547ac1-099e-4355-abcd-0a13898a453b",
   "metadata": {},
   "source": [
    "This method is to initilize the selected layers."
   ]
  },
  {
   "cell_type": "code",
   "execution_count": 8,
   "id": "767378d3-2a85-4d82-ad94-9df10e9101a2",
   "metadata": {},
   "outputs": [],
   "source": [
    "\"\"\" initialize by layer\n",
    "\"\"\"\n",
    "\n",
    "def init_weights(model):\n",
    "    for m in model.modules():\n",
    "        if type(m) in (nn.Conv2d, nn.ConvTranspose2d, nn.BatchNorm2d, nn.Linear):\n",
    "            nn.init.normal_(m.weight.data, 0.0, 0.02)\n",
    "\n",
    "init_weights(model)"
   ]
  },
  {
   "cell_type": "markdown",
   "id": "05b11bd0-81b8-4b7d-a398-4aeb6f49ce0b",
   "metadata": {},
   "source": [
    "### Constant"
   ]
  },
  {
   "cell_type": "markdown",
   "id": "bc466a03-8617-410b-9293-219576f4d3cb",
   "metadata": {},
   "source": [
    "Using constant values."
   ]
  },
  {
   "cell_type": "code",
   "execution_count": 9,
   "id": "a1dd1d26-5704-4ad4-a115-c54056181843",
   "metadata": {},
   "outputs": [],
   "source": [
    "\"\"\" using fixed values\n",
    "\"\"\"\n",
    "\n",
    "def init_fixed(model) :\n",
    "    for p in model.parameters() :\n",
    "        p.data.fill_(0.1)\n",
    "\n",
    "init_fixed(model)"
   ]
  },
  {
   "cell_type": "markdown",
   "id": "961a0748-6cdf-42d5-b5cc-ea8ce78739c7",
   "metadata": {},
   "source": [
    "### Put all together"
   ]
  },
  {
   "cell_type": "markdown",
   "id": "9e566c02-59aa-4bc2-baa7-5b96670c92c6",
   "metadata": {},
   "source": [
    "To combine all previous method together and to initialize models of all possible types of layers, we can filter layers and apply initialization accordingly."
   ]
  },
  {
   "cell_type": "code",
   "execution_count": 10,
   "id": "1e5ec468-d74b-4ebf-a32f-3714830c34a5",
   "metadata": {},
   "outputs": [],
   "source": [
    "\"\"\" apply initilization by the param shape\n",
    "\"\"\"\n",
    "#3.10\n",
    "def init_model(model):\n",
    "    for p in model.parameters():\n",
    "        match len(p.shape):\n",
    "            case 1: \n",
    "                torch.nn.init.normal_(p, mean=0., std=1.), # dime=1 like bias\n",
    "            case 2: \n",
    "                torch.nn.init.xavier_normal_(p, gain=1.), # dim=2 like linear\n",
    "            case 3: \n",
    "                torch.nn.init.xavier_uniform_(p, gain=1.), # dim=3 like Conv1d\n",
    "            case 4: \n",
    "                torch.nn.init.xavier_uniform_(p, gain=1.), # dim=4 like Conv2d\n",
    "            case 5: \n",
    "                torch.nn.init.xavier_uniform_(p, gain=1.), # dim=5 like Conv3d\n",
    "            case _: \n",
    "                torch.nn.init.constant(p, 1.), # else\n",
    "\n",
    "init_model(model)"
   ]
  },
  {
   "cell_type": "markdown",
   "id": "bb019787-75aa-4b00-92af-1695303f985e",
   "metadata": {},
   "source": [
    "### Some other ways"
   ]
  },
  {
   "cell_type": "markdown",
   "id": "5f16b26c-02b2-42ee-8d73-f33c5edc8549",
   "metadata": {},
   "source": [
    "Normally, the weights in a neural network should be set around zero. Some common practice is to start the weights in the range of $[-\\frac{1}{\\sqrt{n}}, \\frac{1}{\\sqrt{n}}]$ where n is the number of inputs."
   ]
  },
  {
   "cell_type": "code",
   "execution_count": 11,
   "id": "f69b68ec-fb34-46d1-9ff6-2b0ffa3544b3",
   "metadata": {},
   "outputs": [],
   "source": [
    "\"\"\" apply specific value rule\n",
    "\"\"\"\n",
    "\n",
    "def weights_init_uniform_rule(m):\n",
    "        classname = m.__class__.__name__\n",
    "        if classname.find('Linear') != -1 :\n",
    "            n = m.in_features\n",
    "            y = 1.0/np.sqrt(n)\n",
    "            m.weight.data.uniform_(-y, y)\n",
    "            m.bias.data.fill_(0)\n",
    "\n",
    "weights_init_uniform_rule(model)"
   ]
  },
  {
   "cell_type": "markdown",
   "id": "805ef816-3e49-4d30-9b65-e6f389f7dea6",
   "metadata": {},
   "source": [
    "# Illustration of initialization"
   ]
  },
  {
   "cell_type": "markdown",
   "id": "42ad0fc3-0d04-44a2-beed-82b4ea0b4dd7",
   "metadata": {},
   "source": [
    "From my experience, I had problem to replicate training results in some cases and I realized initialization was responsible. Even pytorch initiliza the parameters by default, but it is not always optimal. "
   ]
  },
  {
   "cell_type": "code",
   "execution_count": 12,
   "id": "6a512e61-b130-4520-8e9f-893641efc4c5",
   "metadata": {},
   "outputs": [],
   "source": [
    "import torchvision.datasets as datasets\n",
    "import torchvision.transforms as transforms\n",
    "import torch.utils.data as utils\n",
    "data_transforms = [\n",
    "    transforms.ToTensor(), # convert to the range [0,1]\n",
    "]\n",
    "data_transforms = transforms.Compose(data_transforms)\n",
    "data = datasets.MNIST(\"./mnist\", download=False, transform=data_transforms)\n",
    "batch_size = 100\n",
    "\n",
    "# dataloaders\n",
    "train_loader = utils.DataLoader(dataset=data, batch_size=batch_size)\n",
    "valid_loader = utils.DataLoader(dataset=data, batch_size=batch_size)"
   ]
  },
  {
   "cell_type": "code",
   "execution_count": 13,
   "id": "c1c2c808-700e-4dba-a6e9-d786ac7ac976",
   "metadata": {},
   "outputs": [],
   "source": [
    "model = nn.Sequential(\n",
    "    nn.Linear(28*28, 1024),\n",
    "    nn.ReLU(),\n",
    "    nn.Linear(1024, 256),\n",
    "    nn.ReLU(),\n",
    "    nn.Linear(256, 10),\n",
    "    nn.LogSoftmax(dim=1)\n",
    ")\n",
    "\n",
    "def train(epochs, model, loss, optim, init, loader) :\n",
    "\n",
    "    init(model)\n",
    "    loss_log = []\n",
    "\n",
    "    for e in range(epochs) :\n",
    "\n",
    "        loss_tot = 0\n",
    "        loss_num = 0\n",
    "    \n",
    "        for data, label in loader:\n",
    "            data = data.view(100, -1)\n",
    "            preds = model(data)\n",
    "            l = loss(preds, label)\n",
    "\n",
    "            loss_num += len(data)\n",
    "            loss_tot += l * len(data)\n",
    "            \n",
    "            optim.zero_grad()\n",
    "            l.backward()\n",
    "            optim.step()\n",
    "        # print(\"{} / {} : loss: {} \".format(e+1, epochs, loss_tot/loss_num))\n",
    "        loss_log.append((loss_tot/loss_num).detach().numpy())\n",
    "\n",
    "    return loss_log       "
   ]
  },
  {
   "cell_type": "code",
   "execution_count": 14,
   "id": "3e11c69d-0599-4d64-986e-9809e4345487",
   "metadata": {},
   "outputs": [],
   "source": [
    "import torch\n",
    "loss_fn = nn.NLLLoss()\n",
    "optimizer = torch.optim.Adam(model.parameters(), lr=0.001)\n",
    "init_fixed = init_fixed\n",
    "loss_log_constant = train(50, model, loss_fn, optimizer, init_fixed, valid_loader)\n",
    "init_uniformrule = weights_init_uniform_rule\n",
    "loss_log_uniformrule = train(50, model, loss_fn, optimizer, init_uniformrule, valid_loader)\n",
    "init_uniXavier = init_model\n",
    "loss_log_xavier = train(50, model, loss_fn, optimizer, init_uniXavier, valid_loader)"
   ]
  },
  {
   "cell_type": "code",
   "execution_count": 19,
   "id": "cb6f7ec6-0545-456b-b489-52b77d2bf7e7",
   "metadata": {},
   "outputs": [
    {
     "data": {
      "text/plain": [
       "<matplotlib.legend.Legend at 0x7f426651a7d0>"
      ]
     },
     "execution_count": 19,
     "metadata": {},
     "output_type": "execute_result"
    },
    {
     "data": {
      "image/png": "[encoded data removed]",
      "text/plain": [
       "<Figure size 640x480 with 1 Axes>"
      ]
     },
     "metadata": {},
     "output_type": "display_data"
    }
   ],
   "source": [
    "import matplotlib.pyplot as plt\n",
    "ep = [i for i in range(len(loss_log_uniformrule))]\n",
    "plt.plot(ep, loss_log_uniformrule, 'r', label='Uniform Rule')\n",
    "plt.plot(ep, loss_log_constant, 'b', label='Constant of 0.1')\n",
    "plt.plot(ep, loss_log_xavier, 'g', label='xavier_normal')\n",
    "plt.xlabel(\"epoch\")\n",
    "plt.ylabel(\"Loss\")\n",
    "plt.legend()"
   ]
  },
  {
   "cell_type": "markdown",
   "id": "a51224df-0b7b-48b4-8692-2c441e0fb216",
   "metadata": {},
   "source": [
    "The example is meaningless, however, it shows that the paremeter initialization can impact greatly the training process, or even the final results (the loss can explode)."
   ]
  }
 ],
 "metadata": {
  "kernelspec": {
   "display_name": "Python 3 (ipykernel)",
   "language": "python",
   "name": "python3"
  },
  "language_info": {
   "codemirror_mode": {
    "name": "ipython",
    "version": 3
   },
   "file_extension": ".py",
   "mimetype": "text/x-python",
   "name": "python",
   "nbconvert_exporter": "python",
   "pygments_lexer": "ipython3",
   "version": "3.11.7"
  }
 },
 "nbformat": 4,
 "nbformat_minor": 5
}
